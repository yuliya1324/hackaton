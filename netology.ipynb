{
 "cells": [
  {
   "cell_type": "code",
   "execution_count": 1,
   "metadata": {},
   "outputs": [],
   "source": [
    "from selenium import webdriver\n",
    "import re\n",
    "driver = webdriver.Chrome()"
   ]
  },
  {
   "cell_type": "code",
   "execution_count": null,
   "metadata": {},
   "outputs": [],
   "source": [
    "driver.get('https://netology.ru/navigation')\n",
    "net_page = driver.page_source\n",
    "pages = ['https://netology.ru'+re.findall('href=\"(.+?)\"', x)[0] for x in re.findall('<a class=\"shared-components-ProgramCard-programCard-module__root--1ggGE\" (.+)', net_page)]"
   ]
  },
  {
   "cell_type": "code",
   "execution_count": 12,
   "metadata": {},
   "outputs": [],
   "source": [
    "def get_courses_harvard(key, level):\n",
    "    courses = []\n",
    "    if level == 1:\n",
    "        level = 'Introductory'\n",
    "    elif level in [2, 3]:\n",
    "        level = 'Intermediate'\n",
    "    else:\n",
    "        level = 'Advanced'\n",
    "    driver.get(f'https://online-learning.harvard.edu/catalog?keywords={key}&op=Search')\n",
    "    h_page = driver.page_source\n",
    "    for src in ['https://online-learning.harvard.edu'+x for x in re.findall('<h3><a href=\"(.+?)\">', h_page)]:\n",
    "        driver.get(src)\n",
    "        src_page = driver.page_source\n",
    "        level_src = re.findall('Difficulty</div><div class=\"field\">(.+?)</div>', src_page)[0]\n",
    "        if level_src == level:\n",
    "            courses.append(src)\n",
    "    return courses"
   ]
  },
  {
   "cell_type": "code",
   "execution_count": 16,
   "metadata": {},
   "outputs": [
    {
     "data": {
      "text/plain": [
       "['https://online-learning.harvard.edu/course/cs50s-web-programming-python-and-javascript?delta=0',\n",
       " 'https://online-learning.harvard.edu/course/web-programming-python-and-javascript-1?delta=0']"
      ]
     },
     "execution_count": 16,
     "metadata": {},
     "output_type": "execute_result"
    }
   ],
   "source": [
    "get_courses_harvard('sql', 3)"
   ]
  },
  {
   "cell_type": "code",
   "execution_count": null,
   "metadata": {},
   "outputs": [],
   "source": []
  }
 ],
 "metadata": {
  "kernelspec": {
   "display_name": "Python 3",
   "language": "python",
   "name": "python3"
  },
  "language_info": {
   "codemirror_mode": {
    "name": "ipython",
    "version": 3
   },
   "file_extension": ".py",
   "mimetype": "text/x-python",
   "name": "python",
   "nbconvert_exporter": "python",
   "pygments_lexer": "ipython3",
   "version": "3.8.5"
  }
 },
 "nbformat": 4,
 "nbformat_minor": 4
}
