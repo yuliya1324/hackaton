{
 "cells": [
  {
   "cell_type": "code",
   "execution_count": 29,
   "metadata": {},
   "outputs": [],
   "source": [
    "from selenium import webdriver\n",
    "import re\n",
    "import requests\n",
    "from bs4 import BeautifulSoup\n",
    "driver = webdriver.Chrome()\n",
    "from collections import defaultdict"
   ]
  },
  {
   "cell_type": "code",
   "execution_count": 17,
   "metadata": {},
   "outputs": [],
   "source": [
    "driver.get('https://netology.ru/navigation')\n",
    "net_page = driver.page_source\n",
    "pages = ['https://netology.ru'+re.findall('href=\"(.+?)\"', x)[0] for x in re.findall('<a class=\"shared-components-ProgramCard-programCard-module__root--1ggGE\" (.+)', net_page)]"
   ]
  },
  {
   "cell_type": "code",
   "execution_count": 37,
   "metadata": {},
   "outputs": [],
   "source": [
    "def get_courses_harvard(key, level):\n",
    "    result = defaultdict(dict)\n",
    "    if level == 1:\n",
    "        level = 'Introductory'\n",
    "    elif level in [2, 3]:\n",
    "        level = 'Intermediate'\n",
    "    else:\n",
    "        level = 'Advanced'\n",
    "    driver.get(f'https://online-learning.harvard.edu/catalog?keywords={key}&op=Search')\n",
    "    h_page = driver.page_source\n",
    "    for src in ['https://online-learning.harvard.edu'+x for x in re.findall('<h3><a href=\"(.+?)\">', h_page)]:\n",
    "        driver.get(src)\n",
    "        src_page = driver.page_source\n",
    "        level_src = re.findall('Difficulty</div><div class=\"field\">(.+?)</div>', src_page)[0]\n",
    "        if level_src == level:\n",
    "            name = re.findall('<h1>(.+?)</h1>', src_page)[0]\n",
    "            result[name]['link'] = src\n",
    "            result[name]['tags'] = [re.findall('>(.+?)</a>', x)[0] for x in re.findall('<li class=\"topic-tag\">(.+?)</li>', src_page)]\n",
    "    return result"
   ]
  },
  {
   "cell_type": "code",
   "execution_count": 38,
   "metadata": {},
   "outputs": [
    {
     "name": "stdout",
     "output_type": "stream",
     "text": [
      "https://online-learning.harvard.edu/course/cs50-introduction-computer-science?delta=0\n",
      "https://online-learning.harvard.edu/course/cs50-lawyers?delta=0\n",
      "https://online-learning.harvard.edu/course/cs50s-understanding-technology-0?delta=0\n"
     ]
    },
    {
     "data": {
      "text/plain": [
       "defaultdict(dict,\n",
       "            {'CS50: Introduction to Computer Science': {'link': 'https://online-learning.harvard.edu/course/cs50-introduction-computer-science?delta=0',\n",
       "              'tags': ['Computer Science',\n",
       "               'Data Structures',\n",
       "               'Algorithms',\n",
       "               'Programming',\n",
       "               'SQL',\n",
       "               'Python',\n",
       "               'Web Development',\n",
       "               'CSS',\n",
       "               'HTML',\n",
       "               'JavaScript']},\n",
       "             'CS50 for Lawyers': {'link': 'https://online-learning.harvard.edu/course/cs50-lawyers?delta=0',\n",
       "              'tags': ['Computer Science',\n",
       "               'Cybersecurity',\n",
       "               'Data Algorithms',\n",
       "               'Data Structures',\n",
       "               'Programming',\n",
       "               'Databases',\n",
       "               'SQL',\n",
       "               'Python',\n",
       "               'Law',\n",
       "               'Business Law']},\n",
       "             \"CS50's Understanding Technology\": {'link': 'https://online-learning.harvard.edu/course/cs50s-understanding-technology-0?delta=0',\n",
       "              'tags': ['Computer Science',\n",
       "               'Data Structures',\n",
       "               'Algorithms',\n",
       "               'Programming',\n",
       "               'SQL',\n",
       "               'Python',\n",
       "               'Web Development',\n",
       "               'CSS',\n",
       "               'HTML',\n",
       "               'JavaScript']}})"
      ]
     },
     "execution_count": 38,
     "metadata": {},
     "output_type": "execute_result"
    }
   ],
   "source": [
    "get_courses_harvard('sql', 1)"
   ]
  },
  {
   "cell_type": "code",
   "execution_count": null,
   "metadata": {},
   "outputs": [],
   "source": [
    "<li class=\"topic-tag\"><a href=\"/subject/computer-science-0\" aria-label=\"See more courses in the Computer Science topic\">Computer Science</a></li>"
   ]
  }
 ],
 "metadata": {
  "kernelspec": {
   "display_name": "Python 3",
   "language": "python",
   "name": "python3"
  },
  "language_info": {
   "codemirror_mode": {
    "name": "ipython",
    "version": 3
   },
   "file_extension": ".py",
   "mimetype": "text/x-python",
   "name": "python",
   "nbconvert_exporter": "python",
   "pygments_lexer": "ipython3",
   "version": "3.8.5"
  }
 },
 "nbformat": 4,
 "nbformat_minor": 4
}
